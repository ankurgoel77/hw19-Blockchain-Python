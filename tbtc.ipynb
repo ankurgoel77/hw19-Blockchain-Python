{
 "cells": [
  {
   "cell_type": "code",
   "execution_count": 1,
   "source": [
    "from wallet import *"
   ],
   "outputs": [],
   "metadata": {}
  },
  {
   "cell_type": "code",
   "execution_count": 2,
   "source": [
    "#Get addresses for our mnemonic\r\n",
    "for i in range(0,3):\r\n",
    "    print(coins[BTCTEST][i][\"address\"])\r\n",
    "\r\n",
    "# Then use the BTC testnet to fund the first address\r\n",
    "\r\n",
    "# Finally, get the private key for the first address:\r\n",
    "address1 = coins[BTCTEST][0][\"address\"]\r\n",
    "privkey = coins[BTCTEST][0][\"privkey\"]\r\n",
    "print(f\"The private key for the first address {address1} is: {privkey}\")"
   ],
   "outputs": [
    {
     "output_type": "stream",
     "name": "stdout",
     "text": [
      "n2otMud2rjqdxhcg7M1MTxpoaC7nfsHFd2\n",
      "mw1cuQdMZSnaZgUgQwNEAsLDyzCyG31gs8\n",
      "mwCvjNk53q27NsKWfDnn7rQpVa1yhakxp6\n",
      "The private key for the first address n2otMud2rjqdxhcg7M1MTxpoaC7nfsHFd2 is: cMvhJiiKvxqmokbr34iqHAj3HPk9XRPhJzLb4ndiozNeFGHVABW7\n"
     ]
    }
   ],
   "metadata": {}
  },
  {
   "cell_type": "code",
   "execution_count": 3,
   "source": [
    "# Now to send a tx to the second address, first we need to get the account object\r\n",
    "acct1 = priv_key_to_account(BTCTEST, privkey)\r\n",
    "print(acct1)"
   ],
   "outputs": [
    {
     "output_type": "stream",
     "name": "stdout",
     "text": [
      "<PrivateKeyTestnet: n2otMud2rjqdxhcg7M1MTxpoaC7nfsHFd2>\n"
     ]
    }
   ],
   "metadata": {}
  },
  {
   "cell_type": "code",
   "execution_count": 4,
   "source": [
    "# Finally, we can send a tx to the 2nd address.  Send only 0.0005 tBTC because of the fee associated\r\n",
    "recipient = coins[BTCTEST][1][\"address\"]\r\n",
    "tx = send_tx(BTCTEST, acct1, recipient, 0.00005)"
   ],
   "outputs": [],
   "metadata": {}
  },
  {
   "cell_type": "code",
   "execution_count": 7,
   "source": [
    "print(recipient)"
   ],
   "outputs": [
    {
     "output_type": "stream",
     "name": "stdout",
     "text": [
      "mw1cuQdMZSnaZgUgQwNEAsLDyzCyG31gs8\n"
     ]
    }
   ],
   "metadata": {}
  },
  {
   "cell_type": "markdown",
   "source": [
    "This resulted in a transaction with id 8a61e9dc06ced7553e3a5d5ec3ee507036104866a67c838e789641277917bd8f.  The resulting transcation is confirmed at https://tbtc.bitaps.com/mw1cuQdMZSnaZgUgQwNEAsLDyzCyG31gs8 with the following screenshot:\r\n",
    "\r\n",
    "![btctestnet confirmed](screenshots/btc_testnet_confirmed.png)\r\n"
   ],
   "metadata": {}
  },
  {
   "cell_type": "code",
   "execution_count": null,
   "source": [],
   "outputs": [],
   "metadata": {}
  }
 ],
 "metadata": {
  "orig_nbformat": 4,
  "language_info": {
   "name": "python",
   "version": "3.7.10",
   "mimetype": "text/x-python",
   "codemirror_mode": {
    "name": "ipython",
    "version": 3
   },
   "pygments_lexer": "ipython3",
   "nbconvert_exporter": "python",
   "file_extension": ".py"
  },
  "kernelspec": {
   "name": "python3",
   "display_name": "Python 3.7.10 64-bit ('ethereum': conda)"
  },
  "interpreter": {
   "hash": "cb6c4b56b8991da89118dad85ccf5659bf9154963ad4cec5e33f4a3f6c317b36"
  }
 },
 "nbformat": 4,
 "nbformat_minor": 2
}