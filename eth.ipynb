{
 "cells": [
  {
   "cell_type": "code",
   "execution_count": 1,
   "source": [
    "from wallet import *"
   ],
   "outputs": [],
   "metadata": {}
  },
  {
   "cell_type": "code",
   "execution_count": 3,
   "source": [
    "# Address1 is generated from geth.  The Private Key is provided by MyCrypto once the PoW \r\n",
    "#  blockchain is running\r\n",
    "address1 = \"0xd9e6c0546cd406a40a2e96cf0b433f13816d6626\"\r\n",
    "privkey = \"0x499599facc2d9cbe7281f323cfa076bb45b99270d705e89befe4097a5fad5651\""
   ],
   "outputs": [],
   "metadata": {}
  },
  {
   "cell_type": "code",
   "execution_count": 4,
   "source": [
    "# Now to send a tx to the second address, first we need to get the account object\r\n",
    "acct1 = priv_key_to_account(ETH, privkey)\r\n",
    "print(acct1)"
   ],
   "outputs": [
    {
     "output_type": "stream",
     "name": "stdout",
     "text": [
      "<eth_account.signers.local.LocalAccount object at 0x0000018CE10D9B48>\n"
     ]
    }
   ],
   "metadata": {}
  },
  {
   "cell_type": "code",
   "execution_count": 10,
   "source": [
    "# Finally, we can send a tx to the 2nd address.  Send 250 ETH because these pre-funded wallets have a lot of ETH\r\n",
    "recipient = Web3.toChecksumAddress(\"0xc5e9d741256f3b093fd33eb2ffe5e4384b83f2f8\")\r\n",
    "tx = send_tx(ETH, acct1, recipient, int(250e18))"
   ],
   "outputs": [],
   "metadata": {}
  },
  {
   "cell_type": "code",
   "execution_count": 11,
   "source": [
    "print(tx.hex())"
   ],
   "outputs": [
    {
     "output_type": "stream",
     "name": "stdout",
     "text": [
      "0x344b14b1c985557e2fe403217a45569aecbbb243477a5a25cbddd84e37c63f6a\n"
     ]
    }
   ],
   "metadata": {}
  },
  {
   "cell_type": "markdown",
   "source": [
    "This transaction is confirmed in MyCrypto as:\r\n",
    "\r\n",
    "![eth tx confirmed](screenshots/eth_tx_confirmed.png)"
   ],
   "metadata": {}
  },
  {
   "cell_type": "code",
   "execution_count": null,
   "source": [],
   "outputs": [],
   "metadata": {}
  }
 ],
 "metadata": {
  "orig_nbformat": 4,
  "language_info": {
   "name": "python",
   "version": "3.7.10",
   "mimetype": "text/x-python",
   "codemirror_mode": {
    "name": "ipython",
    "version": 3
   },
   "pygments_lexer": "ipython3",
   "nbconvert_exporter": "python",
   "file_extension": ".py"
  },
  "kernelspec": {
   "name": "python3",
   "display_name": "Python 3.7.10 64-bit ('ethereum': conda)"
  },
  "interpreter": {
   "hash": "cb6c4b56b8991da89118dad85ccf5659bf9154963ad4cec5e33f4a3f6c317b36"
  }
 },
 "nbformat": 4,
 "nbformat_minor": 2
}